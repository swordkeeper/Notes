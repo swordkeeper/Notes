{
 "cells": [
  {
   "cell_type": "markdown",
   "metadata": {},
   "source": [
    "# iPython tools \n"
   ]
  },
  {
   "cell_type": "markdown",
   "metadata": {},
   "source": [
    "### Magic command"
   ]
  },
  {
   "cell_type": "code",
   "execution_count": 2,
   "metadata": {},
   "outputs": [],
   "source": [
    "%quickref  ## list ipython magic\n",
    "%magic     ## specific help for magic command\n",
    "%debug     ## interactively debug \n",
    "%hist      ## show magic command history\n",
    "%reset     ## delete all names in a namespace\n",
    "%run       ## run a python script file\n",
    "%time      ## show the time to run one statement\n",
    "%timeit    ## iteratively run a statement to test its average time\n",
    "%whos      ## show all names in user's namespace\n",
    "%matplotlib inline   ## use matplotlib to drag some graphs"
   ]
  }
 ],
 "metadata": {
  "kernelspec": {
   "display_name": "Python 3",
   "language": "python",
   "name": "python3"
  },
  "language_info": {
   "codemirror_mode": {
    "name": "ipython",
    "version": 3
   },
   "file_extension": ".py",
   "mimetype": "text/x-python",
   "name": "python",
   "nbconvert_exporter": "python",
   "pygments_lexer": "ipython3",
   "version": "3.7.3"
  }
 },
 "nbformat": 4,
 "nbformat_minor": 2
}
